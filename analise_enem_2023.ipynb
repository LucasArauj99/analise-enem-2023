{
 "cells": [
  {
   "cell_type": "code",
   "execution_count": null,
   "id": "c52407e9-441a-4e0d-aadf-a213e735f19a",
   "metadata": {},
   "outputs": [],
   "source": []
  }
 ],
 "metadata": {
  "kernelspec": {
   "display_name": "",
   "name": ""
  },
  "language_info": {
   "name": ""
  }
 },
 "nbformat": 4,
 "nbformat_minor": 5
}
