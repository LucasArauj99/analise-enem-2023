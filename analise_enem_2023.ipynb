{
 "cells": [
  {
   "cell_type": "code",
   "execution_count": 1,
   "id": "c52407e9-441a-4e0d-aadf-a213e735f19a",
   "metadata": {},
   "outputs": [],
   "source": [
    "import pandas as pd\n",
    "import numpy as np\n",
    "\n",
    "pd.set_option('display.max_columns', None)\n",
    "pd.options.display.float_format = '{:.2f}'.format\n",
    "\n",
    "#parte gráfica\n",
    "import matplotlib.pyplot as plt\n",
    "import seaborn as sns"
   ]
  },
  {
   "cell_type": "code",
   "execution_count": 2,
   "id": "8680f9a9-79c9-4d08-90aa-7269becfd46a",
   "metadata": {},
   "outputs": [
    {
     "data": {
      "text/html": [
       "<div>\n",
       "<style scoped>\n",
       "    .dataframe tbody tr th:only-of-type {\n",
       "        vertical-align: middle;\n",
       "    }\n",
       "\n",
       "    .dataframe tbody tr th {\n",
       "        vertical-align: top;\n",
       "    }\n",
       "\n",
       "    .dataframe thead th {\n",
       "        text-align: right;\n",
       "    }\n",
       "</style>\n",
       "<table border=\"1\" class=\"dataframe\">\n",
       "  <thead>\n",
       "    <tr style=\"text-align: right;\">\n",
       "      <th></th>\n",
       "      <th>inscricao</th>\n",
       "      <th>idade</th>\n",
       "      <th>sexo</th>\n",
       "      <th>cor_raça</th>\n",
       "      <th>nacionalidade</th>\n",
       "      <th>status_conclusao</th>\n",
       "      <th>tipo_escola</th>\n",
       "      <th>treineiro</th>\n",
       "      <th>municipio_prova</th>\n",
       "      <th>uf_prova</th>\n",
       "      <th>presenca_cn</th>\n",
       "      <th>presenca_ch</th>\n",
       "      <th>presenca_lc</th>\n",
       "      <th>presenca_mt</th>\n",
       "      <th>nota_cn</th>\n",
       "      <th>nota_ch</th>\n",
       "      <th>nota_lc</th>\n",
       "      <th>nota_mt</th>\n",
       "      <th>tipo_lingua</th>\n",
       "      <th>status_redacao</th>\n",
       "      <th>nu_nota_comp1</th>\n",
       "      <th>nu_nota_comp2</th>\n",
       "      <th>nu_nota_comp3</th>\n",
       "      <th>nu_nota_comp4</th>\n",
       "      <th>nu_nota_comp5</th>\n",
       "      <th>nota_redacao</th>\n",
       "    </tr>\n",
       "  </thead>\n",
       "  <tbody>\n",
       "    <tr>\n",
       "      <th>0</th>\n",
       "      <td>210061103945</td>\n",
       "      <td>6</td>\n",
       "      <td>F</td>\n",
       "      <td>1</td>\n",
       "      <td>1</td>\n",
       "      <td>1</td>\n",
       "      <td>1</td>\n",
       "      <td>0</td>\n",
       "      <td>Caxias do Sul</td>\n",
       "      <td>RS</td>\n",
       "      <td>1</td>\n",
       "      <td>1</td>\n",
       "      <td>1</td>\n",
       "      <td>1</td>\n",
       "      <td>502.00</td>\n",
       "      <td>498.90</td>\n",
       "      <td>475.60</td>\n",
       "      <td>363.20</td>\n",
       "      <td>1</td>\n",
       "      <td>1.00</td>\n",
       "      <td>140.00</td>\n",
       "      <td>200.00</td>\n",
       "      <td>100.00</td>\n",
       "      <td>120.00</td>\n",
       "      <td>140.00</td>\n",
       "      <td>700.00</td>\n",
       "    </tr>\n",
       "    <tr>\n",
       "      <th>1</th>\n",
       "      <td>210060214087</td>\n",
       "      <td>2</td>\n",
       "      <td>F</td>\n",
       "      <td>3</td>\n",
       "      <td>1</td>\n",
       "      <td>2</td>\n",
       "      <td>2</td>\n",
       "      <td>0</td>\n",
       "      <td>Fortaleza</td>\n",
       "      <td>CE</td>\n",
       "      <td>1</td>\n",
       "      <td>1</td>\n",
       "      <td>1</td>\n",
       "      <td>1</td>\n",
       "      <td>459.00</td>\n",
       "      <td>508.50</td>\n",
       "      <td>507.20</td>\n",
       "      <td>466.70</td>\n",
       "      <td>0</td>\n",
       "      <td>1.00</td>\n",
       "      <td>140.00</td>\n",
       "      <td>200.00</td>\n",
       "      <td>160.00</td>\n",
       "      <td>180.00</td>\n",
       "      <td>200.00</td>\n",
       "      <td>880.00</td>\n",
       "    </tr>\n",
       "    <tr>\n",
       "      <th>2</th>\n",
       "      <td>210059980948</td>\n",
       "      <td>3</td>\n",
       "      <td>F</td>\n",
       "      <td>3</td>\n",
       "      <td>1</td>\n",
       "      <td>2</td>\n",
       "      <td>2</td>\n",
       "      <td>0</td>\n",
       "      <td>Quixadá</td>\n",
       "      <td>CE</td>\n",
       "      <td>1</td>\n",
       "      <td>1</td>\n",
       "      <td>1</td>\n",
       "      <td>1</td>\n",
       "      <td>402.50</td>\n",
       "      <td>379.20</td>\n",
       "      <td>446.90</td>\n",
       "      <td>338.30</td>\n",
       "      <td>0</td>\n",
       "      <td>1.00</td>\n",
       "      <td>120.00</td>\n",
       "      <td>120.00</td>\n",
       "      <td>120.00</td>\n",
       "      <td>120.00</td>\n",
       "      <td>80.00</td>\n",
       "      <td>560.00</td>\n",
       "    </tr>\n",
       "    <tr>\n",
       "      <th>3</th>\n",
       "      <td>210060801601</td>\n",
       "      <td>11</td>\n",
       "      <td>M</td>\n",
       "      <td>1</td>\n",
       "      <td>1</td>\n",
       "      <td>1</td>\n",
       "      <td>1</td>\n",
       "      <td>0</td>\n",
       "      <td>Batatais</td>\n",
       "      <td>SP</td>\n",
       "      <td>1</td>\n",
       "      <td>1</td>\n",
       "      <td>1</td>\n",
       "      <td>1</td>\n",
       "      <td>564.70</td>\n",
       "      <td>630.30</td>\n",
       "      <td>610.40</td>\n",
       "      <td>680.20</td>\n",
       "      <td>0</td>\n",
       "      <td>1.00</td>\n",
       "      <td>120.00</td>\n",
       "      <td>120.00</td>\n",
       "      <td>120.00</td>\n",
       "      <td>120.00</td>\n",
       "      <td>120.00</td>\n",
       "      <td>600.00</td>\n",
       "    </tr>\n",
       "    <tr>\n",
       "      <th>4</th>\n",
       "      <td>210059085130</td>\n",
       "      <td>8</td>\n",
       "      <td>M</td>\n",
       "      <td>3</td>\n",
       "      <td>1</td>\n",
       "      <td>1</td>\n",
       "      <td>1</td>\n",
       "      <td>0</td>\n",
       "      <td>Natal</td>\n",
       "      <td>RN</td>\n",
       "      <td>1</td>\n",
       "      <td>1</td>\n",
       "      <td>1</td>\n",
       "      <td>1</td>\n",
       "      <td>644.90</td>\n",
       "      <td>620.20</td>\n",
       "      <td>626.90</td>\n",
       "      <td>736.30</td>\n",
       "      <td>0</td>\n",
       "      <td>1.00</td>\n",
       "      <td>140.00</td>\n",
       "      <td>200.00</td>\n",
       "      <td>160.00</td>\n",
       "      <td>160.00</td>\n",
       "      <td>200.00</td>\n",
       "      <td>860.00</td>\n",
       "    </tr>\n",
       "  </tbody>\n",
       "</table>\n",
       "</div>"
      ],
      "text/plain": [
       "      inscricao  idade sexo  cor_raça  nacionalidade  status_conclusao  \\\n",
       "0  210061103945      6    F         1              1                 1   \n",
       "1  210060214087      2    F         3              1                 2   \n",
       "2  210059980948      3    F         3              1                 2   \n",
       "3  210060801601     11    M         1              1                 1   \n",
       "4  210059085130      8    M         3              1                 1   \n",
       "\n",
       "   tipo_escola  treineiro municipio_prova uf_prova  presenca_cn  presenca_ch  \\\n",
       "0            1          0   Caxias do Sul       RS            1            1   \n",
       "1            2          0       Fortaleza       CE            1            1   \n",
       "2            2          0         Quixadá       CE            1            1   \n",
       "3            1          0        Batatais       SP            1            1   \n",
       "4            1          0           Natal       RN            1            1   \n",
       "\n",
       "   presenca_lc  presenca_mt  nota_cn  nota_ch  nota_lc  nota_mt  tipo_lingua  \\\n",
       "0            1            1   502.00   498.90   475.60   363.20            1   \n",
       "1            1            1   459.00   508.50   507.20   466.70            0   \n",
       "2            1            1   402.50   379.20   446.90   338.30            0   \n",
       "3            1            1   564.70   630.30   610.40   680.20            0   \n",
       "4            1            1   644.90   620.20   626.90   736.30            0   \n",
       "\n",
       "   status_redacao  nu_nota_comp1  nu_nota_comp2  nu_nota_comp3  nu_nota_comp4  \\\n",
       "0            1.00         140.00         200.00         100.00         120.00   \n",
       "1            1.00         140.00         200.00         160.00         180.00   \n",
       "2            1.00         120.00         120.00         120.00         120.00   \n",
       "3            1.00         120.00         120.00         120.00         120.00   \n",
       "4            1.00         140.00         200.00         160.00         160.00   \n",
       "\n",
       "   nu_nota_comp5  nota_redacao  \n",
       "0         140.00        700.00  \n",
       "1         200.00        880.00  \n",
       "2          80.00        560.00  \n",
       "3         120.00        600.00  \n",
       "4         200.00        860.00  "
      ]
     },
     "execution_count": 2,
     "metadata": {},
     "output_type": "execute_result"
    }
   ],
   "source": [
    "dados = pd.read_csv('./dados/DADOS_ENEM_2013_TRATADOS.zip', encoding='latin1', sep=';')\n",
    "dados.head()"
   ]
  },
  {
   "cell_type": "code",
   "execution_count": 3,
   "id": "8068b2ab-7c31-4520-9434-07267d60cc95",
   "metadata": {},
   "outputs": [
    {
     "data": {
      "text/plain": [
       "(2678244, 26)"
      ]
     },
     "execution_count": 3,
     "metadata": {},
     "output_type": "execute_result"
    }
   ],
   "source": [
    "dados.shape"
   ]
  },
  {
   "cell_type": "code",
   "execution_count": 4,
   "id": "ce7004a3-e0ff-4a82-9997-6c5483168191",
   "metadata": {},
   "outputs": [
    {
     "name": "stdout",
     "output_type": "stream",
     "text": [
      "<class 'pandas.core.frame.DataFrame'>\n",
      "RangeIndex: 2678244 entries, 0 to 2678243\n",
      "Data columns (total 26 columns):\n",
      " #   Column            Dtype  \n",
      "---  ------            -----  \n",
      " 0   inscricao         int64  \n",
      " 1   idade             int64  \n",
      " 2   sexo              object \n",
      " 3   cor_raça          int64  \n",
      " 4   nacionalidade     int64  \n",
      " 5   status_conclusao  int64  \n",
      " 6   tipo_escola       int64  \n",
      " 7   treineiro         int64  \n",
      " 8   municipio_prova   object \n",
      " 9   uf_prova          object \n",
      " 10  presenca_cn       int64  \n",
      " 11  presenca_ch       int64  \n",
      " 12  presenca_lc       int64  \n",
      " 13  presenca_mt       int64  \n",
      " 14  nota_cn           float64\n",
      " 15  nota_ch           float64\n",
      " 16  nota_lc           float64\n",
      " 17  nota_mt           float64\n",
      " 18  tipo_lingua       int64  \n",
      " 19  status_redacao    float64\n",
      " 20  nu_nota_comp1     float64\n",
      " 21  nu_nota_comp2     float64\n",
      " 22  nu_nota_comp3     float64\n",
      " 23  nu_nota_comp4     float64\n",
      " 24  nu_nota_comp5     float64\n",
      " 25  nota_redacao      float64\n",
      "dtypes: float64(11), int64(12), object(3)\n",
      "memory usage: 531.3+ MB\n"
     ]
    }
   ],
   "source": [
    "dados.info()"
   ]
  },
  {
   "cell_type": "code",
   "execution_count": 5,
   "id": "264c665c-1cea-49f9-8a64-50ffdf10f94a",
   "metadata": {},
   "outputs": [
    {
     "name": "stdout",
     "output_type": "stream",
     "text": [
      "<class 'pandas.core.frame.DataFrame'>\n",
      "RangeIndex: 2678244 entries, 0 to 2678243\n",
      "Data columns (total 26 columns):\n",
      " #   Column            Dtype   \n",
      "---  ------            -----   \n",
      " 0   inscricao         int64   \n",
      " 1   idade             int64   \n",
      " 2   sexo              category\n",
      " 3   cor_raça          category\n",
      " 4   nacionalidade     int64   \n",
      " 5   status_conclusao  category\n",
      " 6   tipo_escola       category\n",
      " 7   treineiro         category\n",
      " 8   municipio_prova   category\n",
      " 9   uf_prova          category\n",
      " 10  presenca_cn       category\n",
      " 11  presenca_ch       category\n",
      " 12  presenca_lc       category\n",
      " 13  presenca_mt       category\n",
      " 14  nota_cn           float64 \n",
      " 15  nota_ch           float64 \n",
      " 16  nota_lc           float64 \n",
      " 17  nota_mt           float64 \n",
      " 18  tipo_lingua       category\n",
      " 19  status_redacao    category\n",
      " 20  nu_nota_comp1     float64 \n",
      " 21  nu_nota_comp2     float64 \n",
      " 22  nu_nota_comp3     float64 \n",
      " 23  nu_nota_comp4     float64 \n",
      " 24  nu_nota_comp5     float64 \n",
      " 25  nota_redacao      float64 \n",
      "dtypes: category(13), float64(10), int64(3)\n",
      "memory usage: 301.5 MB\n"
     ]
    }
   ],
   "source": [
    "colunas_categoricas = ['sexo', 'cor_raça', 'tipo_escola', 'status_conclusao', 'treineiro', \n",
    "                       'municipio_prova', 'uf_prova', 'presenca_cn', 'presenca_ch', \n",
    "                       'presenca_lc', 'presenca_mt', 'tipo_lingua', 'status_redacao']\n",
    "for col in colunas_categoricas:\n",
    "    dados[col] = dados[col].astype('category')\n",
    "dados.info()"
   ]
  },
  {
   "cell_type": "code",
   "execution_count": 6,
   "id": "f1d01402-075e-45e4-a031-a6f3d813db5d",
   "metadata": {},
   "outputs": [
    {
     "data": {
      "text/html": [
       "<div>\n",
       "<style scoped>\n",
       "    .dataframe tbody tr th:only-of-type {\n",
       "        vertical-align: middle;\n",
       "    }\n",
       "\n",
       "    .dataframe tbody tr th {\n",
       "        vertical-align: top;\n",
       "    }\n",
       "\n",
       "    .dataframe thead th {\n",
       "        text-align: right;\n",
       "    }\n",
       "</style>\n",
       "<table border=\"1\" class=\"dataframe\">\n",
       "  <thead>\n",
       "    <tr style=\"text-align: right;\">\n",
       "      <th></th>\n",
       "      <th>idade</th>\n",
       "      <th>nacionalidade</th>\n",
       "      <th>nota_cn</th>\n",
       "      <th>nota_ch</th>\n",
       "      <th>nota_lc</th>\n",
       "      <th>nota_mt</th>\n",
       "      <th>nu_nota_comp1</th>\n",
       "      <th>nu_nota_comp2</th>\n",
       "      <th>nu_nota_comp3</th>\n",
       "      <th>nu_nota_comp4</th>\n",
       "      <th>nu_nota_comp5</th>\n",
       "      <th>nota_redacao</th>\n",
       "    </tr>\n",
       "  </thead>\n",
       "  <tbody>\n",
       "    <tr>\n",
       "      <th>count</th>\n",
       "      <td>2678244.00</td>\n",
       "      <td>2678244.00</td>\n",
       "      <td>2678244.00</td>\n",
       "      <td>2678244.00</td>\n",
       "      <td>2678244.00</td>\n",
       "      <td>2678244.00</td>\n",
       "      <td>2678244.00</td>\n",
       "      <td>2678244.00</td>\n",
       "      <td>2678244.00</td>\n",
       "      <td>2678244.00</td>\n",
       "      <td>2678244.00</td>\n",
       "      <td>2678244.00</td>\n",
       "    </tr>\n",
       "    <tr>\n",
       "      <th>mean</th>\n",
       "      <td>4.39</td>\n",
       "      <td>1.03</td>\n",
       "      <td>495.92</td>\n",
       "      <td>526.21</td>\n",
       "      <td>520.30</td>\n",
       "      <td>534.03</td>\n",
       "      <td>122.90</td>\n",
       "      <td>141.22</td>\n",
       "      <td>120.14</td>\n",
       "      <td>131.52</td>\n",
       "      <td>110.82</td>\n",
       "      <td>626.61</td>\n",
       "    </tr>\n",
       "    <tr>\n",
       "      <th>std</th>\n",
       "      <td>3.50</td>\n",
       "      <td>0.21</td>\n",
       "      <td>87.77</td>\n",
       "      <td>86.79</td>\n",
       "      <td>74.11</td>\n",
       "      <td>131.52</td>\n",
       "      <td>34.30</td>\n",
       "      <td>50.40</td>\n",
       "      <td>42.41</td>\n",
       "      <td>42.61</td>\n",
       "      <td>61.02</td>\n",
       "      <td>209.03</td>\n",
       "    </tr>\n",
       "    <tr>\n",
       "      <th>min</th>\n",
       "      <td>1.00</td>\n",
       "      <td>0.00</td>\n",
       "      <td>0.00</td>\n",
       "      <td>0.00</td>\n",
       "      <td>0.00</td>\n",
       "      <td>0.00</td>\n",
       "      <td>0.00</td>\n",
       "      <td>0.00</td>\n",
       "      <td>0.00</td>\n",
       "      <td>0.00</td>\n",
       "      <td>0.00</td>\n",
       "      <td>0.00</td>\n",
       "    </tr>\n",
       "    <tr>\n",
       "      <th>25%</th>\n",
       "      <td>2.00</td>\n",
       "      <td>1.00</td>\n",
       "      <td>440.60</td>\n",
       "      <td>471.20</td>\n",
       "      <td>473.70</td>\n",
       "      <td>431.40</td>\n",
       "      <td>120.00</td>\n",
       "      <td>120.00</td>\n",
       "      <td>100.00</td>\n",
       "      <td>120.00</td>\n",
       "      <td>60.00</td>\n",
       "      <td>520.00</td>\n",
       "    </tr>\n",
       "    <tr>\n",
       "      <th>50%</th>\n",
       "      <td>3.00</td>\n",
       "      <td>1.00</td>\n",
       "      <td>494.00</td>\n",
       "      <td>532.90</td>\n",
       "      <td>524.90</td>\n",
       "      <td>523.80</td>\n",
       "      <td>120.00</td>\n",
       "      <td>140.00</td>\n",
       "      <td>120.00</td>\n",
       "      <td>120.00</td>\n",
       "      <td>120.00</td>\n",
       "      <td>620.00</td>\n",
       "    </tr>\n",
       "    <tr>\n",
       "      <th>75%</th>\n",
       "      <td>5.00</td>\n",
       "      <td>1.00</td>\n",
       "      <td>551.30</td>\n",
       "      <td>586.90</td>\n",
       "      <td>571.80</td>\n",
       "      <td>630.30</td>\n",
       "      <td>140.00</td>\n",
       "      <td>180.00</td>\n",
       "      <td>140.00</td>\n",
       "      <td>160.00</td>\n",
       "      <td>160.00</td>\n",
       "      <td>780.00</td>\n",
       "    </tr>\n",
       "    <tr>\n",
       "      <th>max</th>\n",
       "      <td>20.00</td>\n",
       "      <td>4.00</td>\n",
       "      <td>868.40</td>\n",
       "      <td>823.00</td>\n",
       "      <td>820.80</td>\n",
       "      <td>958.60</td>\n",
       "      <td>200.00</td>\n",
       "      <td>200.00</td>\n",
       "      <td>200.00</td>\n",
       "      <td>200.00</td>\n",
       "      <td>200.00</td>\n",
       "      <td>1000.00</td>\n",
       "    </tr>\n",
       "  </tbody>\n",
       "</table>\n",
       "</div>"
      ],
      "text/plain": [
       "           idade  nacionalidade    nota_cn    nota_ch    nota_lc    nota_mt  \\\n",
       "count 2678244.00     2678244.00 2678244.00 2678244.00 2678244.00 2678244.00   \n",
       "mean        4.39           1.03     495.92     526.21     520.30     534.03   \n",
       "std         3.50           0.21      87.77      86.79      74.11     131.52   \n",
       "min         1.00           0.00       0.00       0.00       0.00       0.00   \n",
       "25%         2.00           1.00     440.60     471.20     473.70     431.40   \n",
       "50%         3.00           1.00     494.00     532.90     524.90     523.80   \n",
       "75%         5.00           1.00     551.30     586.90     571.80     630.30   \n",
       "max        20.00           4.00     868.40     823.00     820.80     958.60   \n",
       "\n",
       "       nu_nota_comp1  nu_nota_comp2  nu_nota_comp3  nu_nota_comp4  \\\n",
       "count     2678244.00     2678244.00     2678244.00     2678244.00   \n",
       "mean          122.90         141.22         120.14         131.52   \n",
       "std            34.30          50.40          42.41          42.61   \n",
       "min             0.00           0.00           0.00           0.00   \n",
       "25%           120.00         120.00         100.00         120.00   \n",
       "50%           120.00         140.00         120.00         120.00   \n",
       "75%           140.00         180.00         140.00         160.00   \n",
       "max           200.00         200.00         200.00         200.00   \n",
       "\n",
       "       nu_nota_comp5  nota_redacao  \n",
       "count     2678244.00    2678244.00  \n",
       "mean          110.82        626.61  \n",
       "std            61.02        209.03  \n",
       "min             0.00          0.00  \n",
       "25%            60.00        520.00  \n",
       "50%           120.00        620.00  \n",
       "75%           160.00        780.00  \n",
       "max           200.00       1000.00  "
      ]
     },
     "execution_count": 6,
     "metadata": {},
     "output_type": "execute_result"
    }
   ],
   "source": [
    "dados.iloc[:, 1:].describe()"
   ]
  },
  {
   "cell_type": "code",
   "execution_count": 7,
   "id": "97a7be0f-a542-4e59-89ae-c9847538f52f",
   "metadata": {},
   "outputs": [
    {
     "data": {
      "text/plain": [
       "inscricao           2678244\n",
       "idade                    20\n",
       "sexo                      2\n",
       "cor_raça                  6\n",
       "nacionalidade             5\n",
       "status_conclusao          4\n",
       "tipo_escola               3\n",
       "treineiro                 2\n",
       "municipio_prova        1715\n",
       "uf_prova                 27\n",
       "presenca_cn               1\n",
       "presenca_ch               1\n",
       "presenca_lc               1\n",
       "presenca_mt               1\n",
       "nota_cn                5036\n",
       "nota_ch                4811\n",
       "nota_lc                4760\n",
       "nota_mt                6056\n",
       "tipo_lingua               2\n",
       "status_redacao            8\n",
       "nu_nota_comp1            11\n",
       "nu_nota_comp2            10\n",
       "nu_nota_comp3            12\n",
       "nu_nota_comp4            11\n",
       "nu_nota_comp5            11\n",
       "nota_redacao             50\n",
       "dtype: int64"
      ]
     },
     "execution_count": 7,
     "metadata": {},
     "output_type": "execute_result"
    }
   ],
   "source": [
    "dados.nunique()"
   ]
  },
  {
   "cell_type": "code",
   "execution_count": 8,
   "id": "99d80896-71f3-412a-b081-ca711275a8f1",
   "metadata": {},
   "outputs": [
    {
     "name": "stdout",
     "output_type": "stream",
     "text": [
      "A quantidade de participantes Masculina foi de 1034206 participantes\n",
      "A quantidade de participantes Feminina foi de 1644038 participantes\n"
     ]
    }
   ],
   "source": [
    "m = dados[dados['sexo'] == 'M'].shape\n",
    "f = dados[dados['sexo'] == 'F'].shape\n",
    "print(f\"A quantidade de participantes Masculina foi de {m[0]} participantes\")\n",
    "print(f\"A quantidade de participantes Feminina foi de {f[0]} participantes\")"
   ]
  },
  {
   "cell_type": "code",
   "execution_count": 9,
   "id": "e7d41ead-3f3d-45fd-8c7a-f84b9cf04d7d",
   "metadata": {},
   "outputs": [
    {
     "data": {
      "text/plain": [
       "Text(0, 0.5, 'Quantidade')"
      ]
     },
     "execution_count": 9,
     "metadata": {},
     "output_type": "execute_result"
    },
    {
     "data": {
      "image/png": "[encoded data removed]",
      "text/plain": [
       "<Figure size 640x480 with 1 Axes>"
      ]
     },
     "metadata": {},
     "output_type": "display_data"
    }
   ],
   "source": [
    "sexo_counts = dados['sexo'].value_counts()\n",
    "cores = ['#D62728', '#1f77b4']\n",
    "#plt.figure(figsize=(8, 6))\n",
    "#plt.bar(sexo_counts.index, sexo_counts.values, color=cores, edgecolor='black')\n",
    "\n",
    "sns.countplot(data=dados, x='sexo', hue='sexo', palette='cividis', edgecolor='black', legend=False)\n",
    "\n",
    "plt.title('Distribuição por Sexo')\n",
    "plt.xlabel('Sexo')\n",
    "plt.ylabel('Quantidade')"
   ]
  },
  {
   "cell_type": "code",
   "execution_count": 10,
   "id": "09ecbdda-6b4a-42f8-b0fe-5e9aa6069f43",
   "metadata": {},
   "outputs": [],
   "source": [
    "raca = {\n",
    "    0: 'Não Declarado',\n",
    "    1: 'Branca',\n",
    "    2: 'Preta',\n",
    "    3: 'Parda',\n",
    "    4: 'Amarela',\n",
    "    5: 'Indígena',\n",
    "    6: 'Sem informação'\n",
    "}\n",
    "dados['cor/raca'] = dados['cor_raça'].map(raca)"
   ]
  },
  {
   "cell_type": "code",
   "execution_count": 11,
   "id": "ea6f35d7-8b69-4999-8c2e-4a874c75b10a",
   "metadata": {},
   "outputs": [
    {
     "data": {
      "text/plain": [
       "cor/raca\n",
       "Branca           1153775\n",
       "Parda            1117217\n",
       "Preta             316995\n",
       "Amarela            42674\n",
       "Não Declarado      33230\n",
       "Indígena           14353\n",
       "Name: count, dtype: int64"
      ]
     },
     "execution_count": 11,
     "metadata": {},
     "output_type": "execute_result"
    }
   ],
   "source": [
    "dados['cor/raca'].value_counts()"
   ]
  },
  {
   "cell_type": "code",
   "execution_count": 12,
   "id": "bca50656-16ba-49e6-92bd-959bb4ff9c7c",
   "metadata": {},
   "outputs": [
    {
     "data": {
      "text/plain": [
       "<Figure size 1000x600 with 0 Axes>"
      ]
     },
     "metadata": {},
     "output_type": "display_data"
    },
    {
     "data": {
      "image/png": "[encoded data removed]",
      "text/plain": [
       "<Figure size 1000x600 with 1 Axes>"
      ]
     },
     "metadata": {},
     "output_type": "display_data"
    }
   ],
   "source": [
    "plt.figure(figsize=(10, 6))\n",
    "ordem = dados['cor/raca'].value_counts().index\n",
    "\n",
    "plt.figure(figsize=(10, 6))\n",
    "sns.countplot(data=dados, x='cor/raca', hue='cor/raca', palette='cividis', order=ordem, edgecolor='black', legend=False)\n",
    "\n",
    "plt.title('Distribuição por cor/raça')\n",
    "plt.xlabel('Cor/Raça')\n",
    "plt.ylabel('Quantidade')\n",
    "plt.show()"
   ]
  },
  {
   "cell_type": "code",
   "execution_count": 13,
   "id": "4bb765b4-716e-4e24-bac9-27ab7b13c28a",
   "metadata": {},
   "outputs": [],
   "source": [
    "faixa_etaria = {\n",
    "    1: '-17 anos',\n",
    "    2: '17 anos',\n",
    "    3: '18 anos',\n",
    "    4: '19 anos',\n",
    "    5: '20 anos',\n",
    "    6: '21 anos',\n",
    "    7: '22 anos',\n",
    "    8: '23 anos',\n",
    "    9: '24 anos',\n",
    "    10: '25 anos',\n",
    "    11: '26-30 anos',\n",
    "    12: '31-35 anos',\n",
    "    13: '36-40 anos',\n",
    "    14: '41-45 anos',\n",
    "    15: '46-50 anos',\n",
    "    16: '51-55 anos',\n",
    "    17: '56-60 anos',\n",
    "    18: '61-65 anos',\n",
    "    19: '66-70 anos',\n",
    "    20: 'maior de 70 anos'\n",
    "}\n",
    "dados['faixa_idade'] = dados['idade'].map(faixa_etaria)\n",
    "dados['faixa_idade'] = pd.Categorical(dados['faixa_idade'], categories=faixa_etaria.values(), ordered=True)"
   ]
  },
  {
   "cell_type": "code",
   "execution_count": 14,
   "id": "641ddfa6-1579-4283-9764-34066aa2767e",
   "metadata": {},
   "outputs": [
    {
     "data": {
      "text/plain": [
       "faixa_idade\n",
       "18 anos             682825\n",
       "17 anos             620795\n",
       "19 anos             292329\n",
       "-17 anos            288515\n",
       "20 anos             169356\n",
       "26-30 anos          114427\n",
       "21 anos             108732\n",
       "22 anos              77813\n",
       "31-35 anos           60221\n",
       "23 anos              59720\n",
       "24 anos              46689\n",
       "36-40 anos           44933\n",
       "25 anos              36110\n",
       "41-45 anos           31615\n",
       "46-50 anos           20127\n",
       "51-55 anos           12350\n",
       "56-60 anos            6974\n",
       "61-65 anos            3038\n",
       "66-70 anos            1193\n",
       "maior de 70 anos       482\n",
       "Name: count, dtype: int64"
      ]
     },
     "execution_count": 14,
     "metadata": {},
     "output_type": "execute_result"
    }
   ],
   "source": [
    "dados['faixa_idade'].value_counts().sort_values(ascending=False)"
   ]
  },
  {
   "cell_type": "code",
   "execution_count": 15,
   "id": "ca9562bf-153d-48c8-8fb1-a0b04a2708be",
   "metadata": {},
   "outputs": [
    {
     "data": {
      "image/png": "[encoded data removed]",
      "text/plain": [
       "<Figure size 1500x600 with 1 Axes>"
      ]
     },
     "metadata": {},
     "output_type": "display_data"
    }
   ],
   "source": [
    "plt.figure(figsize=(15, 6))\n",
    "sns.countplot(data=dados, x='faixa_idade', hue='faixa_idade', palette='cividis', edgecolor='black', legend=False)\n",
    "plt.title('Faixa etária dos participantes')\n",
    "plt.xlabel('idade')\n",
    "plt.ylabel('Quantidade')\n",
    "plt.xticks(rotation=55)\n",
    "plt.show()"
   ]
  },
  {
   "cell_type": "code",
   "execution_count": 16,
   "id": "7bdb616b-f597-40df-aebd-3fe576083c0b",
   "metadata": {},
   "outputs": [],
   "source": [
    "#Nacionalidade (ou apenas brasileiros vs estrangeiros)\n",
    "nacionalidade = {\n",
    "    0: 'Não Informado',\n",
    "    1: 'Brasileiro(a)',\n",
    "    2: 'Naturalizado(a)',\n",
    "    3: 'Estrangeiro(a)',\n",
    "    4: 'BR nasc(a) no exterior'\n",
    "}\n",
    "dados['tp_nacionalidade'] = dados['nacionalidade'].map(nacionalidade)"
   ]
  },
  {
   "cell_type": "code",
   "execution_count": 17,
   "id": "ada27124-b6f5-447b-a0d6-17065a3cc9e0",
   "metadata": {},
   "outputs": [
    {
     "data": {
      "text/plain": [
       "tp_nacionalidade\n",
       "Brasileiro(a)             2618369\n",
       "Naturalizado(a)             47605\n",
       "BR nasc(a) no exterior       6336\n",
       "Estrangeiro(a)               4690\n",
       "Não Informado                1244\n",
       "Name: count, dtype: int64"
      ]
     },
     "execution_count": 17,
     "metadata": {},
     "output_type": "execute_result"
    }
   ],
   "source": [
    "dados['tp_nacionalidade'].value_counts()"
   ]
  },
  {
   "cell_type": "code",
   "execution_count": 18,
   "id": "ef5c543b-f1d1-4401-8a3a-99f409f8531d",
   "metadata": {},
   "outputs": [
    {
     "data": {
      "image/png": "[encoded data removed]",
      "text/plain": [
       "<Figure size 1200x600 with 1 Axes>"
      ]
     },
     "metadata": {},
     "output_type": "display_data"
    }
   ],
   "source": [
    "plt.figure(figsize=(12, 6))\n",
    "sns.countplot(data=dados, x='tp_nacionalidade', hue='tp_nacionalidade', palette='cividis', edgecolor='black', legend=False)\n",
    "plt.title('Nacionalidade dos participantes')\n",
    "plt.xlabel('Nacionalidade')\n",
    "plt.ylabel('Quantidade')\n",
    "#plt.xticks(rotation=55)\n",
    "plt.show()"
   ]
  },
  {
   "cell_type": "code",
   "execution_count": 19,
   "id": "b198e510-4bf3-412b-9015-c0ffdd737e57",
   "metadata": {},
   "outputs": [],
   "source": [
    "#Treineiros vs não treineiros\n",
    "treineiro = {\n",
    "    0: 'Não',\n",
    "    1: 'Sim'\n",
    "}\n",
    "dados['in_treineiro'] = dados['treineiro'].map(treineiro)"
   ]
  },
  {
   "cell_type": "code",
   "execution_count": 20,
   "id": "515ca2ad-4eb5-4cd8-87cd-745ece52d407",
   "metadata": {},
   "outputs": [
    {
     "data": {
      "text/plain": [
       "in_treineiro\n",
       "Não    2166824\n",
       "Sim     511420\n",
       "Name: count, dtype: int64"
      ]
     },
     "execution_count": 20,
     "metadata": {},
     "output_type": "execute_result"
    }
   ],
   "source": [
    "dados['in_treineiro'].value_counts()"
   ]
  },
  {
   "cell_type": "code",
   "execution_count": 21,
   "id": "2e676943-9645-4e0b-9120-2708d5dc273d",
   "metadata": {},
   "outputs": [
    {
     "data": {
      "image/png": "[encoded data removed]",
      "text/plain": [
       "<Figure size 640x480 with 1 Axes>"
      ]
     },
     "metadata": {},
     "output_type": "display_data"
    }
   ],
   "source": [
    "#plt.figure(figsize=(8, 6))\n",
    "sns.countplot(data=dados, x='in_treineiro',  hue='in_treineiro', palette='cividis', edgecolor='black', legend=False)\n",
    "plt.title('Treineiros vs Não Treineiros')\n",
    "plt.xlabel('É Treineiro?')\n",
    "plt.ylabel('Quantidade')\n",
    "#plt.xticks(rotation=55)\n",
    "plt.show()"
   ]
  },
  {
   "cell_type": "code",
   "execution_count": null,
   "id": "ad182aa6-15c4-4d94-a8c7-217b90a5afea",
   "metadata": {},
   "outputs": [],
   "source": []
  }
 ],
 "metadata": {
  "kernelspec": {
   "display_name": "Python 3 (ipykernel)",
   "language": "python",
   "name": "python3"
  },
  "language_info": {
   "codemirror_mode": {
    "name": "ipython",
    "version": 3
   },
   "file_extension": ".py",
   "mimetype": "text/x-python",
   "name": "python",
   "nbconvert_exporter": "python",
   "pygments_lexer": "ipython3",
   "version": "3.12.3"
  }
 },
 "nbformat": 4,
 "nbformat_minor": 5
}
