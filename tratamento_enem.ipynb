{
 "cells": [
  {
   "cell_type": "code",
   "execution_count": null,
   "id": "f9acee86-d1e1-4a5d-86cb-f0505b8e5e07",
   "metadata": {},
   "outputs": [],
   "source": []
  }
 ],
 "metadata": {
  "kernelspec": {
   "display_name": "",
   "name": ""
  },
  "language_info": {
   "name": ""
  }
 },
 "nbformat": 4,
 "nbformat_minor": 5
}
